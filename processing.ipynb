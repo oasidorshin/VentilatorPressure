{
 "cells": [
  {
   "cell_type": "code",
   "execution_count": null,
   "id": "0b5af629",
   "metadata": {},
   "outputs": [],
   "source": [
    "import numpy as np\n",
    "import pandas as pd\n",
    "\n",
    "from sklearn.preprocessing import StandardScaler, RobustScaler, FunctionTransformer\n",
    "from pandas_profiling import ProfileReport\n",
    "pd.set_option('display.max_rows', 300)\n",
    "\n",
    "from data import preprocessing"
   ]
  },
  {
   "cell_type": "code",
   "execution_count": null,
   "id": "cae3c608-a120-420c-9cda-6a2908c29a74",
   "metadata": {},
   "outputs": [],
   "source": [
    "train = pd.read_csv('data/train.csv')\n",
    "test = pd.read_csv('data/test.csv')"
   ]
  },
  {
   "cell_type": "code",
   "execution_count": null,
   "id": "64531485",
   "metadata": {},
   "outputs": [],
   "source": [
    "data_kwargs = {'u_in_cumsum': True,\n",
    "          'u_in_lag12': True,\n",
    "          'u_in_lag34': False,\n",
    "          'u_in_lag_back12': True,\n",
    "          'u_in_lag_back34': False,\n",
    "          'u_in_diff12': True,\n",
    "          'u_in_diff34': False,\n",
    "          'u_in_diff_back12': True,\n",
    "          'u_in_diff_back34': False,\n",
    "          'u_in_last': False,\n",
    "          'u_in_max': False,\n",
    "          'scaler': RobustScaler()}\n",
    "train, test, features = preprocessing(train, test, **data_kwargs)"
   ]
  },
  {
   "cell_type": "code",
   "execution_count": null,
   "id": "3ab47f0c",
   "metadata": {},
   "outputs": [],
   "source": [
    "train[features + [\"pressure\"]].head(160)"
   ]
  },
  {
   "cell_type": "code",
   "execution_count": null,
   "id": "8546bbc4-f855-482f-8a05-2607239ac8da",
   "metadata": {},
   "outputs": [],
   "source": [
    "train.dtypes"
   ]
  },
  {
   "cell_type": "code",
   "execution_count": null,
   "id": "1302de3a-724e-438f-b69b-735a4641c10d",
   "metadata": {},
   "outputs": [],
   "source": [
    "train.drop(columns = ['id', 'breath_id'], inplace = True)"
   ]
  },
  {
   "cell_type": "code",
   "execution_count": null,
   "id": "217ceb26",
   "metadata": {},
   "outputs": [],
   "source": [
    "profile = ProfileReport(train[features + [\"pressure\"]].sample(500000), title=\"Pandas Profiling Report\",correlations={\n",
    "        \"pearson\": {\"calculate\": True},\n",
    "        \"spearman\": {\"calculate\": True},\n",
    "        \"kendall\": {\"calculate\": False},\n",
    "        \"phi_k\": {\"calculate\": True},\n",
    "        \"cramers\": {\"calculate\": False}}, interactions = {\"continuous\": False})\n",
    "profile.to_file(\"derivatives_cleaned.html\")"
   ]
  },
  {
   "cell_type": "code",
   "execution_count": null,
   "id": "1fd8b8cf-58ca-4b66-9a56-046194792560",
   "metadata": {},
   "outputs": [],
   "source": []
  }
 ],
 "metadata": {
  "kernelspec": {
   "display_name": "Python 3 (ipykernel)",
   "language": "python",
   "name": "python3"
  },
  "language_info": {
   "codemirror_mode": {
    "name": "ipython",
    "version": 3
   },
   "file_extension": ".py",
   "mimetype": "text/x-python",
   "name": "python",
   "nbconvert_exporter": "python",
   "pygments_lexer": "ipython3",
   "version": "3.9.6"
  }
 },
 "nbformat": 4,
 "nbformat_minor": 5
}
