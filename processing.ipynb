{
 "cells": [
  {
   "cell_type": "code",
   "execution_count": null,
   "id": "0b5af629",
   "metadata": {},
   "outputs": [],
   "source": [
    "import numpy as np\n",
    "import pandas as pd\n",
    "\n",
    "from sklearn.preprocessing import StandardScaler, RobustScaler, FunctionTransformer\n",
    "from pandas_profiling import ProfileReport\n",
    "pd.set_option('display.max_rows', 300)\n",
    "\n",
    "from data import preprocessing"
   ]
  },
  {
   "cell_type": "code",
   "execution_count": null,
   "id": "cae3c608-a120-420c-9cda-6a2908c29a74",
   "metadata": {},
   "outputs": [],
   "source": [
    "train = pd.read_csv('data/train.csv')\n",
    "test = pd.read_csv('data/test.csv')"
   ]
  },
  {
   "cell_type": "code",
   "execution_count": null,
   "id": "64531485",
   "metadata": {},
   "outputs": [],
   "source": [
    "kwargs = {'u_in_cumsum': True,\n",
    "          'u_in_lag12': True,\n",
    "          'u_in_lag_back12': True,\n",
    "          'u_in_diff12': True,\n",
    "          'area_true': True,\n",
    "          'u_in_mean': True,\n",
    "          'u_in_last': True,\n",
    "          'scaler': FunctionTransformer()}\n",
    "train, test, features = preprocessing(train, test, **kwargs)"
   ]
  },
  {
   "cell_type": "code",
   "execution_count": null,
   "id": "3ab47f0c",
   "metadata": {},
   "outputs": [],
   "source": [
    "train[features].sample(160)"
   ]
  },
  {
   "cell_type": "code",
   "execution_count": null,
   "id": "8546bbc4-f855-482f-8a05-2607239ac8da",
   "metadata": {},
   "outputs": [],
   "source": [
    "train.dtypes"
   ]
  },
  {
   "cell_type": "code",
   "execution_count": null,
   "id": "0215aa72-35ab-4140-8c63-b788d1a97b5b",
   "metadata": {},
   "outputs": [],
   "source": [
    "#train = pd.get_dummies(train, columns=['R__C'])"
   ]
  },
  {
   "cell_type": "code",
   "execution_count": null,
   "id": "8ae8fa6b-751f-4369-9b12-b7d86dcb0c21",
   "metadata": {},
   "outputs": [],
   "source": [
    "#train"
   ]
  },
  {
   "cell_type": "code",
   "execution_count": null,
   "id": "1302de3a-724e-438f-b69b-735a4641c10d",
   "metadata": {},
   "outputs": [],
   "source": [
    "train.drop(columns = ['id', 'breath_id'], inplace = True)"
   ]
  },
  {
   "cell_type": "code",
   "execution_count": null,
   "id": "217ceb26",
   "metadata": {},
   "outputs": [],
   "source": [
    "profile = ProfileReport(train.sample(1000000), title=\"Pandas Profiling Report\",correlations={\n",
    "        \"pearson\": {\"calculate\": True},\n",
    "        \"spearman\": {\"calculate\": False},\n",
    "        \"kendall\": {\"calculate\": False},\n",
    "        \"phi_k\": {\"calculate\": False},\n",
    "        \"cramers\": {\"calculate\": False}})\n",
    "profile.to_file(\"allfeatures_filtered.html\")"
   ]
  },
  {
   "cell_type": "code",
   "execution_count": null,
   "id": "1fd8b8cf-58ca-4b66-9a56-046194792560",
   "metadata": {},
   "outputs": [],
   "source": []
  }
 ],
 "metadata": {
  "kernelspec": {
   "display_name": "Python 3 (ipykernel)",
   "language": "python",
   "name": "python3"
  },
  "language_info": {
   "codemirror_mode": {
    "name": "ipython",
    "version": 3
   },
   "file_extension": ".py",
   "mimetype": "text/x-python",
   "name": "python",
   "nbconvert_exporter": "python",
   "pygments_lexer": "ipython3",
   "version": "3.9.6"
  }
 },
 "nbformat": 4,
 "nbformat_minor": 5
}
