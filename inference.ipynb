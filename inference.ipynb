{
 "cells": [
  {
   "cell_type": "code",
   "execution_count": null,
   "id": "db2fa9ee-b6f7-4f2b-a9aa-cb8112932690",
   "metadata": {},
   "outputs": [],
   "source": [
    "import numpy as np\n",
    "import pandas as pd\n",
    "import matplotlib.pyplot as plt\n",
    "\n",
    "import torch\n",
    "import torch.nn.functional as F\n",
    "from torch import nn, optim\n",
    "from torch.utils.data import TensorDataset, DataLoader, SubsetRandomSampler\n",
    "\n",
    "from sklearn.preprocessing import StandardScaler, RobustScaler\n",
    "from sklearn.model_selection import StratifiedKFold, KFold\n",
    "\n",
    "from torch_lr_finder import LRFinder\n",
    "\n",
    "from data import preprocessing, postprocessing\n",
    "from modelling import LSTMModel_base, train_epoch, valid_epoch, L1Loss_masked\n",
    "from func import get_timestamp\n",
    "\n",
    "import timeit, copy"
   ]
  },
  {
   "cell_type": "code",
   "execution_count": null,
   "id": "ce1cd136-5c56-40e2-9e1d-9d02e4e43663",
   "metadata": {},
   "outputs": [],
   "source": [
    "train = pd.read_csv('data/train.csv')\n",
    "test = pd.read_csv('data/test.csv')"
   ]
  },
  {
   "cell_type": "code",
   "execution_count": null,
   "id": "352b09c6-f95f-46d7-ba1e-8e3324342fb3",
   "metadata": {},
   "outputs": [],
   "source": [
    "data_kwargs = {'u_in_cumsum': True,\n",
    "          'u_in_lag12': True,\n",
    "          'u_in_lag34': False,\n",
    "          'u_in_lag_back12': True,\n",
    "          'u_in_lag_back34': False,\n",
    "          'u_in_diff12': True,\n",
    "          'u_in_diff34': False,\n",
    "          'u_in_diff_back12': True,\n",
    "          'u_in_diff_back34': False,\n",
    "          'u_in_last': False,\n",
    "          'u_in_max': False,\n",
    "          'scaler': RobustScaler()}\n",
    "train, test, features = preprocessing(train, test, **data_kwargs)"
   ]
  },
  {
   "cell_type": "code",
   "execution_count": null,
   "id": "97cb3ffe-d9a4-45b7-89d3-6590a40121c9",
   "metadata": {},
   "outputs": [],
   "source": [
    "target = train['pressure']\n",
    "train.drop(columns = ['id', 'breath_id', 'pressure'], inplace = True)\n",
    "test.drop(columns = ['id', 'breath_id'], inplace = True)\n",
    "input_size = train.shape[1]\n",
    "features, train.columns, input_size"
   ]
  },
  {
   "cell_type": "code",
   "execution_count": null,
   "id": "321d37ee-a20c-48e0-b94c-89e91053a723",
   "metadata": {},
   "outputs": [],
   "source": [
    "train = torch.tensor(train.to_numpy()).reshape(-1,80, input_size).float()\n",
    "test = torch.tensor(test.to_numpy()).reshape(-1,80, input_size).float()\n",
    "target = torch.tensor(target.to_numpy()).reshape(-1,80,1).float()"
   ]
  },
  {
   "cell_type": "code",
   "execution_count": null,
   "id": "dd31c704-1ee5-4712-83dd-72858b2ebf10",
   "metadata": {},
   "outputs": [],
   "source": [
    "modelnames = [\"kaggle_fold_1.pth\"]\n",
    "\n",
    "timestamp = get_timestamp()\n",
    "df = pd.read_csv('data/sample_submission.csv')\n",
    "\n",
    "test_target = torch.zeros(test.shape[0],80,1).float()\n",
    "test_dataset = TensorDataset(test, test_target)\n",
    "test_loader = DataLoader(test_dataset, batch_size=256, num_workers = 4)\n",
    "\n",
    "print(f\"Total folds: {len(modelnames)}\")\n",
    "\n",
    "for fold, modelname in enumerate(modelnames):\n",
    "    model = LSTMModel_base(input_size)\n",
    "    model.to(\"cuda\")\n",
    "    filename = f'models/{modelname}'\n",
    "    model.load_state_dict(torch.load(filename, map_location=\"cuda\"))\n",
    "    model.eval()\n",
    "\n",
    "    y_preds = []\n",
    "    for x, y in test_loader:\n",
    "        x = x.to(\"cuda\")\n",
    "        with torch.no_grad():\n",
    "            y_pred = model(x).squeeze()\n",
    "\n",
    "        y_preds.append(y_pred.cpu().numpy())\n",
    "\n",
    "    y_preds = np.concatenate(y_preds, axis=0).ravel()\n",
    "    df[fold] = y_preds\n",
    "    \n",
    "    print(f\"Fold {fold} done\")\n",
    "submission = postprocessing(df, len(modelnames))\n",
    "submission.to_csv(f'submission.csv', index = False)\n",
    "print('Done')"
   ]
  }
 ],
 "metadata": {
  "kernelspec": {
   "display_name": "Python 3 (ipykernel)",
   "language": "python",
   "name": "python3"
  },
  "language_info": {
   "codemirror_mode": {
    "name": "ipython",
    "version": 3
   },
   "file_extension": ".py",
   "mimetype": "text/x-python",
   "name": "python",
   "nbconvert_exporter": "python",
   "pygments_lexer": "ipython3",
   "version": "3.9.6"
  }
 },
 "nbformat": 4,
 "nbformat_minor": 5
}
